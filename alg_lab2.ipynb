{
  "nbformat": 4,
  "nbformat_minor": 0,
  "metadata": {
    "colab": {
      "name": "alg_lab2.ipynb",
      "provenance": [],
      "collapsed_sections": []
    },
    "kernelspec": {
      "name": "python3",
      "display_name": "Python 3"
    },
    "language_info": {
      "name": "python"
    }
  },
  "cells": [
    {
      "cell_type": "code",
      "metadata": {
        "id": "MzZ0JN88hUPq"
      },
      "source": [
        "import numpy as np\n",
        "import scipy as sp\n",
        "import scipy.optimize as opt\n",
        "import matplotlib.pyplot as plt\n",
        "from functools import partial"
      ],
      "execution_count": 2,
      "outputs": []
    },
    {
      "cell_type": "code",
      "metadata": {
        "id": "7toyhtqegBfP"
      },
      "source": [
        "#function 1\n",
        "def cube_func(x):\n",
        "    return x ** 3\n",
        "\n",
        "#function 2\n",
        "def abs_func(x):\n",
        "    return abs(x - 0.2)\n",
        "\n",
        "#function 3\n",
        "def sin_func(x):\n",
        "    return x * np.sin(1 / x)\n",
        "\n",
        "eps = 1e-3"
      ],
      "execution_count": 3,
      "outputs": []
    },
    {
      "cell_type": "markdown",
      "metadata": {
        "id": "gGB2SAwdleJC"
      },
      "source": [
        "**One-dimensional search functions**"
      ]
    },
    {
      "cell_type": "code",
      "metadata": {
        "id": "wqP_d3FlHMi0"
      },
      "source": [
        "def exhaustive_search(start, stop, eps, func):\n",
        "    amount = int((stop-start)/eps) + 1\n",
        "    x = np.linspace(start, stop, amount)\n",
        "    vals = np.array(list(map(func, x)))\n",
        "    minpos = np.argmin(vals)\n",
        "    arg = x[minpos]\n",
        "    min_value = func(arg)\n",
        "    iters = amount\n",
        "    f_calc = amount\n",
        "    return arg, min_value, iters, f_calc\n",
        "\n",
        "def dichotomy_search(start, stop, eps, func):\n",
        "    delta = eps / 2\n",
        "    iters = 0\n",
        "    f_calc = 1\n",
        "    x1 = (start + stop - delta) / 2\n",
        "    x2 = (start + stop + delta) / 2\n",
        "    while abs(start - stop) > eps:\n",
        "        if func(x1) <= func(x2):\n",
        "            stop = x2\n",
        "        else:\n",
        "            start = x1\n",
        "        x1 = (start + stop - delta) / 2\n",
        "        x2 = (start + stop + delta) / 2\n",
        "        iters += 1\n",
        "        f_calc += 1\n",
        "    arg = (x1 + x2) / 2\n",
        "    min_value = func(arg)\n",
        "    return arg, min_value, iters, f_calc\n",
        "\n",
        "def golden_section_search(start, stop, eps, func):\n",
        "    gs = (3 - 5 ** 0.5) / 2\n",
        "    x1 = start + gs * (stop - start)\n",
        "    x2 = stop - gs * (stop - start)\n",
        "    iters = 0\n",
        "    while abs(start - stop) > eps:\n",
        "        if func(x1) <= func(x2):\n",
        "            stop = x2\n",
        "            x2 = x1\n",
        "            x1 = start + gs * (stop - start)\n",
        "        else:\n",
        "            start = x1\n",
        "            x1 = x2\n",
        "            x2 = stop - gs * (stop - start)\n",
        "        iters += 1\n",
        "    f_calc = iters + 1\n",
        "    arg = (x1 + x2) / 2\n",
        "    min_value = func(arg)\n",
        "    return arg, min_value, iters, f_calc\n",
        "\n",
        "def search_results(start, stop, eps, func, method):\n",
        "    print('argument = {:.4f}, min value = {:.4f}, iterations = {}, f-calculations = {}'\n",
        "        .format(*method(start, stop, eps, func)))"
      ],
      "execution_count": 4,
      "outputs": []
    },
    {
      "cell_type": "markdown",
      "metadata": {
        "id": "Gu7_h7maaAyf"
      },
      "source": [
        "**Search results for exhaustive search**"
      ]
    },
    {
      "cell_type": "code",
      "metadata": {
        "colab": {
          "base_uri": "https://localhost:8080/"
        },
        "id": "_lVcvWWyaEPy",
        "outputId": "46c62802-b1c4-4471-c22d-59fea6054065"
      },
      "source": [
        "search_results(0, 1, eps, cube_func, exhaustive_search)\n",
        "search_results(0, 1, eps, abs_func, exhaustive_search)\n",
        "search_results(0.01, 1, eps, sin_func, exhaustive_search)"
      ],
      "execution_count": 5,
      "outputs": [
        {
          "output_type": "stream",
          "name": "stdout",
          "text": [
            "argument = 0.0000, min value = 0.0000, iterations = 1001, f-calculations = 1001\n",
            "argument = 0.2000, min value = 0.0000, iterations = 1001, f-calculations = 1001\n",
            "argument = 0.2230, min value = -0.2172, iterations = 991, f-calculations = 991\n"
          ]
        }
      ]
    },
    {
      "cell_type": "markdown",
      "metadata": {
        "id": "1JCUcD7raRLz"
      },
      "source": [
        "**Search results for dichotomy**"
      ]
    },
    {
      "cell_type": "code",
      "metadata": {
        "colab": {
          "base_uri": "https://localhost:8080/"
        },
        "id": "IkHh8CwoaQMA",
        "outputId": "621cd114-2b70-4f8f-d41b-d0f99756d0ca"
      },
      "source": [
        "search_results(0, 1, eps, cube_func, dichotomy_search)\n",
        "search_results(0, 1, eps, abs_func, dichotomy_search)\n",
        "search_results(0.01, 1, eps, sin_func, dichotomy_search)"
      ],
      "execution_count": 6,
      "outputs": [
        {
          "output_type": "stream",
          "name": "stdout",
          "text": [
            "argument = 0.0005, min value = 0.0000, iterations = 11, f-calculations = 12\n",
            "argument = 0.2001, min value = 0.0001, iterations = 11, f-calculations = 12\n",
            "argument = 0.2226, min value = -0.2172, iterations = 11, f-calculations = 12\n"
          ]
        }
      ]
    },
    {
      "cell_type": "markdown",
      "metadata": {
        "id": "67Z6xGqwaSau"
      },
      "source": [
        "**Search results for golden\n",
        "section**"
      ]
    },
    {
      "cell_type": "code",
      "metadata": {
        "colab": {
          "base_uri": "https://localhost:8080/"
        },
        "id": "80gHG2JSaSxJ",
        "outputId": "59a2f527-5ab9-4491-c69f-e2e5118c95bf"
      },
      "source": [
        "search_results(0, 1, eps, cube_func, golden_section_search)\n",
        "search_results(0, 1, eps, abs_func, golden_section_search)\n",
        "search_results(0.01, 1, eps, sin_func, golden_section_search)"
      ],
      "execution_count": 7,
      "outputs": [
        {
          "output_type": "stream",
          "name": "stdout",
          "text": [
            "argument = 0.0004, min value = 0.0000, iterations = 15, f-calculations = 16\n",
            "argument = 0.2001, min value = 0.0001, iterations = 15, f-calculations = 16\n",
            "argument = 0.2227, min value = -0.2172, iterations = 15, f-calculations = 16\n"
          ]
        }
      ]
    },
    {
      "cell_type": "markdown",
      "metadata": {
        "id": "dzyJuQlS7gd0"
      },
      "source": [
        ""
      ]
    },
    {
      "cell_type": "markdown",
      "metadata": {
        "id": "tG0M4hFzk53R"
      },
      "source": [
        "**RNG**"
      ]
    },
    {
      "cell_type": "code",
      "metadata": {
        "colab": {
          "base_uri": "https://localhost:8080/"
        },
        "id": "u7aVOYPAk1tX",
        "outputId": "2c72b19e-9d7a-4309-82ae-0b5148521b8a"
      },
      "source": [
        "k_sz = 101\n",
        "np.random.seed(359)\n",
        "\n",
        "alpha = np.random.rand(1)\n",
        "beta = np.random.rand(1)\n",
        "x = np.linspace(0, 1, k_sz)\n",
        "\n",
        "yk = alpha * x + beta \n",
        "yk_noise = yk + np.random.randn(k_sz)\n",
        "\n",
        "alpha, beta"
      ],
      "execution_count": 29,
      "outputs": [
        {
          "output_type": "execute_result",
          "data": {
            "text/plain": [
              "(array([0.87894558]), array([0.70002342]))"
            ]
          },
          "metadata": {},
          "execution_count": 29
        }
      ]
    },
    {
      "cell_type": "code",
      "metadata": {
        "id": "ig_Z1KMySeNJ"
      },
      "source": [
        "def linear_appr(x, a, b):\n",
        "    return np.array(list(map(lambda v: a * v + b, x)))\n",
        "\n",
        "def rational_appr(x, a, b):\n",
        "    return np.array(list(map(lambda v: a / (1 + b * v), x)))\n",
        "\n",
        "def obj_func(params, vals, x, func_name):\n",
        "    a, b = params\n",
        "    if func_name == 'rational':\n",
        "        return sum((vals - rational_appr(x, a, b)) ** 2)\n",
        "    return sum((vals - linear_appr(x, a, b)) ** 2)"
      ],
      "execution_count": 30,
      "outputs": []
    },
    {
      "cell_type": "markdown",
      "metadata": {
        "id": "LFrH73CMuefJ"
      },
      "source": [
        "**Linear approximation**"
      ]
    },
    {
      "cell_type": "code",
      "metadata": {
        "id": "xvFBgZcejIBb"
      },
      "source": [
        "args_lin = (yk_noise, x, 'linear')\n",
        "\n",
        "exhaustive_lin = opt.brute(obj_func, [[0, 0], [0, 0]], args = args_lin, Ns = int(1 / eps) + 1)\n",
        "gauss_lin = opt.minimize(obj_func, [0, 0], args = args_lin, tol = eps, method = 'Powell')\n",
        "nelder_mead_lin = opt.minimize(obj_func, [0, 0], args = args_lin, tol = eps, method = 'Nelder-Mead')"
      ],
      "execution_count": 31,
      "outputs": []
    },
    {
      "cell_type": "markdown",
      "metadata": {
        "id": "ojYgqBkXq8oA"
      },
      "source": [
        "**Exhaustive search linear**"
      ]
    },
    {
      "cell_type": "code",
      "metadata": {
        "colab": {
          "base_uri": "https://localhost:8080/"
        },
        "id": "WFhZDACXq5Wy",
        "outputId": "06b6743b-5a28-45cf-929e-34469c4854e4"
      },
      "source": [
        "print(exhaustive_lin)"
      ],
      "execution_count": 32,
      "outputs": [
        {
          "output_type": "stream",
          "name": "stdout",
          "text": [
            "[0.82849352 0.82059553]\n"
          ]
        }
      ]
    },
    {
      "cell_type": "markdown",
      "metadata": {
        "id": "ggkTfg8YrC2x"
      },
      "source": [
        "**Gauss linear**"
      ]
    },
    {
      "cell_type": "code",
      "metadata": {
        "colab": {
          "base_uri": "https://localhost:8080/"
        },
        "id": "-5vgE6k7rDOj",
        "outputId": "3fa2ca67-3c92-494b-b8f3-abc01bae87a2"
      },
      "source": [
        "print(gauss_lin)"
      ],
      "execution_count": 33,
      "outputs": [
        {
          "output_type": "stream",
          "name": "stdout",
          "text": [
            "   direc: array([[ 0.        ,  1.        ],\n",
            "       [-0.91403319,  0.45701659]])\n",
            "     fun: 109.7256138854704\n",
            " message: 'Optimization terminated successfully.'\n",
            "    nfev: 95\n",
            "     nit: 3\n",
            "  status: 0\n",
            " success: True\n",
            "       x: array([0.82846138, 0.82061899])\n"
          ]
        }
      ]
    },
    {
      "cell_type": "markdown",
      "metadata": {
        "id": "z6RJ44ZRrDdq"
      },
      "source": [
        "**Nelder-Mead linear** "
      ]
    },
    {
      "cell_type": "code",
      "metadata": {
        "colab": {
          "base_uri": "https://localhost:8080/"
        },
        "id": "8wSF_1w1rD1f",
        "outputId": "9abcd198-1ec5-40c7-eee4-b9ac2a3c4f0a"
      },
      "source": [
        "print(nelder_mead_lin)"
      ],
      "execution_count": 34,
      "outputs": [
        {
          "output_type": "stream",
          "name": "stdout",
          "text": [
            " final_simplex: (array([[0.82907922, 0.82030307],\n",
            "       [0.82816088, 0.82060397],\n",
            "       [0.82927427, 0.81996693]]), array([109.72561717, 109.72561742, 109.72562565]))\n",
            "           fun: 109.7256171676174\n",
            "       message: 'Optimization terminated successfully.'\n",
            "          nfev: 113\n",
            "           nit: 57\n",
            "        status: 0\n",
            "       success: True\n",
            "             x: array([0.82907922, 0.82030307])\n"
          ]
        }
      ]
    },
    {
      "cell_type": "code",
      "metadata": {
        "colab": {
          "base_uri": "https://localhost:8080/",
          "height": 487
        },
        "id": "hCiumrkXsxj4",
        "outputId": "812ec11a-65d5-4b5f-8d2a-711b1703f71c"
      },
      "source": [
        "plt.figure(figsize=(12, 8))\n",
        "plt.plot(x, yk)\n",
        "plt.plot(x, linear_appr(x, *exhaustive_lin))\n",
        "plt.plot(x, linear_appr(x, *gauss_lin.x))\n",
        "plt.plot(x, linear_appr(x, *nelder_mead_lin.x))\n",
        "plt.scatter(x, yk_noise)\n",
        "plt.legend(['Base data', 'Linear exhaustive search approx',\n",
        "           'Linear gauss approx', 'Linear Nelder-Mead approx', 'Noisy data'])\n",
        "plt.show()"
      ],
      "execution_count": 35,
      "outputs": [
        {
          "output_type": "display_data",
          "data": {
            "image/png": "[encoded data removed]",
            "text/plain": [
              "<Figure size 864x576 with 1 Axes>"
            ]
          },
          "metadata": {
            "needs_background": "light"
          }
        }
      ]
    },
    {
      "cell_type": "markdown",
      "metadata": {
        "id": "J5IeSDeqzcYu"
      },
      "source": [
        "**Rational approximation**"
      ]
    },
    {
      "cell_type": "code",
      "metadata": {
        "id": "RDOoubkezbEF"
      },
      "source": [
        "args_rat = (yk_noise, x, 'rational')\n",
        "bounds_rat=[[-1, 1], [-1, 1]]\n",
        "\n",
        "exhaustive_rat = opt.brute(obj_func, [[0, 1], [0, 1]], args = args_rat, Ns = int(1 / eps) + 1)\n",
        "gauss_rat = opt.minimize(obj_func, [0, 0], args = args_rat, tol = eps, method = 'Powell')\n",
        "nelder_mead_rat = opt.minimize(obj_func, [0, 0], args = args_rat, tol = eps, method = 'Nelder-Mead')"
      ],
      "execution_count": 36,
      "outputs": []
    },
    {
      "cell_type": "markdown",
      "metadata": {
        "id": "XBJB8zwn0UPX"
      },
      "source": [
        "**Exhaustive search rational**"
      ]
    },
    {
      "cell_type": "code",
      "metadata": {
        "colab": {
          "base_uri": "https://localhost:8080/"
        },
        "id": "jrPrY7H_0Ukz",
        "outputId": "8a804deb-90bb-4b8a-fc3b-b075cf1f1711"
      },
      "source": [
        "print(exhaustive_rat)"
      ],
      "execution_count": 37,
      "outputs": [
        {
          "output_type": "stream",
          "name": "stdout",
          "text": [
            "[ 0.91364147 -0.47087945]\n"
          ]
        }
      ]
    },
    {
      "cell_type": "markdown",
      "metadata": {
        "id": "u5LXO0mC0U6B"
      },
      "source": [
        "**Gauss rational**"
      ]
    },
    {
      "cell_type": "code",
      "metadata": {
        "colab": {
          "base_uri": "https://localhost:8080/"
        },
        "id": "QhLxRs380VOq",
        "outputId": "6b3d6dfa-70f9-4cc3-a1d1-ce0970d21938"
      },
      "source": [
        "print(gauss_rat)"
      ],
      "execution_count": 38,
      "outputs": [
        {
          "output_type": "stream",
          "name": "stdout",
          "text": [
            "   direc: array([[ 0.        ,  1.        ],\n",
            "       [-0.23269687, -0.22317859]])\n",
            "     fun: 109.95062023116903\n",
            " message: 'Optimization terminated successfully.'\n",
            "    nfev: 75\n",
            "     nit: 3\n",
            "  status: 0\n",
            " success: True\n",
            "       x: array([ 0.91339512, -0.47029573])\n"
          ]
        }
      ]
    },
    {
      "cell_type": "markdown",
      "metadata": {
        "id": "6ThNQTPY0Vms"
      },
      "source": [
        "**Nelder-Mead rational**"
      ]
    },
    {
      "cell_type": "code",
      "metadata": {
        "colab": {
          "base_uri": "https://localhost:8080/"
        },
        "id": "9dhmrtKA0V_V",
        "outputId": "e0aaec3e-40dc-475f-f1c0-12ff4387f746"
      },
      "source": [
        "print(nelder_mead_rat)"
      ],
      "execution_count": 39,
      "outputs": [
        {
          "output_type": "stream",
          "name": "stdout",
          "text": [
            " final_simplex: (array([[ 0.9137492 , -0.47060497],\n",
            "       [ 0.91418845, -0.47013993],\n",
            "       [ 0.91357154, -0.47136222]]), array([109.95049858, 109.95051934, 109.95052587]))\n",
            "           fun: 109.95049857791341\n",
            "       message: 'Optimization terminated successfully.'\n",
            "          nfev: 106\n",
            "           nit: 54\n",
            "        status: 0\n",
            "       success: True\n",
            "             x: array([ 0.9137492 , -0.47060497])\n"
          ]
        }
      ]
    },
    {
      "cell_type": "code",
      "metadata": {
        "colab": {
          "base_uri": "https://localhost:8080/",
          "height": 487
        },
        "id": "N8HNL6wI0XiD",
        "outputId": "d98c08dd-6dfc-49ec-8899-f4f247e8ce5a"
      },
      "source": [
        "plt.figure(figsize=(12, 8))\n",
        "plt.plot(x, yk)\n",
        "plt.plot(x, rational_appr(x, *exhaustive_rat))\n",
        "plt.plot(x, rational_appr(x, *gauss_rat.x))\n",
        "plt.plot(x, rational_appr(x, *nelder_mead_rat.x))\n",
        "plt.scatter(x, yk_noise)\n",
        "plt.legend(['Base data', 'Rational exhaustive search approx',\n",
        "           'Rational gauss approx', 'Rational Nelder-Mead approx', 'Noisy data'])\n",
        "plt.show()"
      ],
      "execution_count": 40,
      "outputs": [
        {
          "output_type": "display_data",
          "data": {
            "image/png": "[encoded data removed]",
            "text/plain": [
              "<Figure size 864x576 with 1 Axes>"
            ]
          },
          "metadata": {
            "needs_background": "light"
          }
        }
      ]
    }
  ]
}