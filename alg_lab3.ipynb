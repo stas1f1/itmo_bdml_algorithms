{
  "nbformat": 4,
  "nbformat_minor": 0,
  "metadata": {
    "colab": {
      "name": "alg_lab3.ipynb",
      "provenance": [],
      "collapsed_sections": []
    },
    "kernelspec": {
      "name": "python3",
      "display_name": "Python 3"
    },
    "language_info": {
      "name": "python"
    }
  },
  "cells": [
    {
      "cell_type": "code",
      "metadata": {
        "id": "MzZ0JN88hUPq"
      },
      "source": [
        "import numpy as np\n",
        "import matplotlib.pyplot as plt\n",
        "from scipy import optimize"
      ],
      "execution_count": 1,
      "outputs": []
    },
    {
      "cell_type": "markdown",
      "metadata": {
        "id": "ot00rOSPgCXl"
      },
      "source": [
        "**RNG**"
      ]
    },
    {
      "cell_type": "code",
      "metadata": {
        "id": "7toyhtqegBfP",
        "colab": {
          "base_uri": "https://localhost:8080/"
        },
        "outputId": "a1a03fa5-8726-4caa-9a39-ed44a49cd5d6"
      },
      "source": [
        "eps = 1e-3\n",
        "k_sz = 101\n",
        "np.random.seed(359)\n",
        "\n",
        "alpha = np.random.rand(1)\n",
        "beta = np.random.rand(1)\n",
        "\n",
        "x = np.linspace(0, 1, k_sz)\n",
        "yk = alpha * x + beta \n",
        "yk_noise = yk + np.random.randn(k_sz)\n",
        "\n",
        "alpha, beta"
      ],
      "execution_count": 111,
      "outputs": [
        {
          "output_type": "execute_result",
          "data": {
            "text/plain": [
              "(array([0.87894558]), array([0.70002342]))"
            ]
          },
          "metadata": {},
          "execution_count": 111
        }
      ]
    },
    {
      "cell_type": "code",
      "metadata": {
        "id": "wqP_d3FlHMi0"
      },
      "source": [
        "def linear_appr(x, a, b):\n",
        "    return np.array(list(map(lambda v: a * v + b, x)))\n",
        "\n",
        "def rational_appr(x, a, b):\n",
        "    return np.array(list(map(lambda v: a / (1 + b * v), x)))\n",
        "\n",
        "def obj_func(params, vals, x, func_name):\n",
        "    a, b = params\n",
        "    if func_name == 'rational':\n",
        "        return sum((vals - rational_appr(x, a, b)) ** 2)\n",
        "    return sum((vals - linear_appr(x, a, b)) ** 2)\n",
        "\n",
        "def obj_func_vect(params, vals, x, func_name):\n",
        "    a, b = params\n",
        "    if func_name == 'rational':\n",
        "        return (vals - rational_appr(x, a, b))\n",
        "    return (vals - linear_appr(x, a, b))\n",
        "\n",
        "def opt_results(results):\n",
        "    print('a = {:.4f}, b = {:.4f}, iterations = {}, f-calculations = {}'\n",
        "        .format(*results))"
      ],
      "execution_count": 112,
      "outputs": []
    },
    {
      "cell_type": "code",
      "metadata": {
        "id": "ig_Z1KMySeNJ"
      },
      "source": [
        "def gradient_descent(args, eps):\n",
        "    y, x, func = args\n",
        "    a, b = 0, 0\n",
        "    lr = 1e-1\n",
        "    iters = 0\n",
        "    f_calc = 0\n",
        "    finished = False\n",
        "    while not finished:\n",
        "        prev_a, prev_b = a, b\n",
        "        if func == 'linear':\n",
        "            a = a - lr * (-2) / len(x) * sum(x * (y - a * x - b))\n",
        "            b = b - lr * (-2) / len(x) * sum(y - a * x - b)\n",
        "        else:\n",
        "            a = a - lr * (-2 / len(x)) * sum((-a + b * x * y + y) / (b * x + 1) ** 2)\n",
        "            b = b - lr * (-2) / len(x) * sum(a * x * (a - y * (b * x + 1)) / (b * x + 1) ** 3)\n",
        "        iters += 1\n",
        "        f_calc += 1\n",
        "        finished = ((a - prev_a) ** 2 + (b - prev_b) ** 2) ** 0.5 < eps\n",
        "    return a, b, iters, f_calc"
      ],
      "execution_count": 132,
      "outputs": []
    },
    {
      "cell_type": "markdown",
      "metadata": {
        "id": "HLIZf-PbcxVg"
      },
      "source": [
        "**Linear approximation**"
      ]
    },
    {
      "cell_type": "code",
      "metadata": {
        "id": "5abjkPTDwcFy"
      },
      "source": [
        "args_lin = (yk_noise, x, 'linear')\n",
        "\n",
        "grad_desc_lin = gradient_descent(args_lin, eps)\n",
        "conj_grad_lin = optimize.minimize(obj_func, [0, 0], args = args_lin, method='CG', tol=eps)\n",
        "newton_lin = optimize.minimize(obj_func, [0, 0], args = args_lin, method='BFGS', tol=eps)\n",
        "LM_lin = optimize.least_squares(obj_func_vect, [0, 0], args = args_lin, method='lm', xtol=eps)"
      ],
      "execution_count": 133,
      "outputs": []
    },
    {
      "cell_type": "markdown",
      "metadata": {
        "id": "7UvcnRYTx1eK"
      },
      "source": [
        "**Gradient Descent linear**"
      ]
    },
    {
      "cell_type": "code",
      "metadata": {
        "colab": {
          "base_uri": "https://localhost:8080/"
        },
        "id": "vP33ITd3yEcZ",
        "outputId": "f612d315-19d5-4cca-e52f-2d00ec198df6"
      },
      "source": [
        "opt_results(grad_desc_lin)"
      ],
      "execution_count": 134,
      "outputs": [
        {
          "output_type": "stream",
          "name": "stdout",
          "text": [
            "a = 0.7668, b = 0.8533, iterations = 107, f-calculations = 107\n"
          ]
        }
      ]
    },
    {
      "cell_type": "markdown",
      "metadata": {
        "id": "PyibOa_4a0hj"
      },
      "source": [
        "Results for 𝜀 =\n",
        "0.001 are a bit off, what if we increase the precision?"
      ]
    },
    {
      "cell_type": "code",
      "metadata": {
        "colab": {
          "base_uri": "https://localhost:8080/"
        },
        "id": "uhzY5rxja5zG",
        "outputId": "585205c4-c284-40f9-ab77-fdfd385e0bda"
      },
      "source": [
        "opt_results(gradient_descent(args_lin, 1e-5))"
      ],
      "execution_count": 135,
      "outputs": [
        {
          "output_type": "stream",
          "name": "stdout",
          "text": [
            "a = 0.8278, b = 0.8209, iterations = 434, f-calculations = 434\n"
          ]
        }
      ]
    },
    {
      "cell_type": "markdown",
      "metadata": {
        "id": "osdu4DDSuyw5"
      },
      "source": [
        ""
      ]
    },
    {
      "cell_type": "markdown",
      "metadata": {
        "id": "E_TvVqUUbDuz"
      },
      "source": [
        "Much better"
      ]
    },
    {
      "cell_type": "markdown",
      "metadata": {
        "id": "QFK1nP72x381"
      },
      "source": [
        "**Conjugate Gradient Descent linear**"
      ]
    },
    {
      "cell_type": "code",
      "metadata": {
        "colab": {
          "base_uri": "https://localhost:8080/"
        },
        "id": "xlwvfUN-FjUg",
        "outputId": "2b170016-96d7-4dc9-bbc6-c71af71a4b03"
      },
      "source": [
        "print(conj_grad_lin)"
      ],
      "execution_count": 117,
      "outputs": [
        {
          "output_type": "stream",
          "name": "stdout",
          "text": [
            "     fun: 109.72561388547057\n",
            "     jac: array([-3.81469727e-06, -4.76837158e-06])\n",
            " message: 'Optimization terminated successfully.'\n",
            "    nfev: 24\n",
            "     nit: 3\n",
            "    njev: 6\n",
            "  status: 0\n",
            " success: True\n",
            "       x: array([0.82846135, 0.82061898])\n"
          ]
        }
      ]
    },
    {
      "cell_type": "markdown",
      "metadata": {
        "id": "ZuHL4fjIx7gJ"
      },
      "source": [
        "**Newton’s method linear**"
      ]
    },
    {
      "cell_type": "code",
      "metadata": {
        "colab": {
          "base_uri": "https://localhost:8080/"
        },
        "id": "c7oBXIOLGFtF",
        "outputId": "aa157ce5-abec-4dc8-9a5c-35e59c52f9c5"
      },
      "source": [
        "print(newton_lin)"
      ],
      "execution_count": 118,
      "outputs": [
        {
          "output_type": "stream",
          "name": "stdout",
          "text": [
            "      fun: 109.72561388547058\n",
            " hess_inv: array([[ 0.05824118, -0.0291206 ],\n",
            "       [-0.0291206 ,  0.0195108 ]])\n",
            "      jac: array([-2.86102295e-06, -4.76837158e-06])\n",
            "  message: 'Optimization terminated successfully.'\n",
            "     nfev: 24\n",
            "      nit: 4\n",
            "     njev: 6\n",
            "   status: 0\n",
            "  success: True\n",
            "        x: array([0.82846139, 0.82061895])\n"
          ]
        }
      ]
    },
    {
      "cell_type": "markdown",
      "metadata": {
        "id": "3NVRlU5YyBKM"
      },
      "source": [
        "**Levenberg-Marquardt algorithm linear**"
      ]
    },
    {
      "cell_type": "code",
      "metadata": {
        "colab": {
          "base_uri": "https://localhost:8080/"
        },
        "id": "7fxqd95yGV3U",
        "outputId": "be3d83f7-9fec-4da2-85be-aeca28bf96c6"
      },
      "source": [
        "print(LM_lin)"
      ],
      "execution_count": 119,
      "outputs": [
        {
          "output_type": "stream",
          "name": "stdout",
          "text": [
            " active_mask: array([0, 0])\n",
            "        cost: 54.862806942735226\n",
            "         fun: array([-7.63923616e-01, -1.90172712e+00,  1.30785124e+00, -4.44201980e-01,\n",
            "       -1.69420382e+00,  7.87366721e-01, -4.46900370e-01, -4.16294011e-01,\n",
            "        6.26207894e-01, -1.45552277e+00, -5.80938345e-01,  2.71924123e+00,\n",
            "        1.94851498e+00,  7.30763243e-02, -2.12460062e-01, -1.66764384e+00,\n",
            "        7.50325396e-01, -1.18277539e+00,  8.25813922e-01,  1.08880326e+00,\n",
            "        6.59806645e-01, -1.10399547e+00, -9.04157864e-01,  2.02161415e+00,\n",
            "       -1.22332500e-01,  7.74754014e-01,  1.57315663e+00,  7.83142770e-01,\n",
            "       -1.78697273e-01,  1.39648154e+00, -6.69943364e-01, -2.84827254e+00,\n",
            "       -6.54813444e-02,  1.69419759e+00,  2.77147466e-02,  4.63503389e-01,\n",
            "       -9.31138621e-01,  5.73033292e-01,  6.76930626e-01, -9.44338368e-02,\n",
            "       -3.39883199e-01,  5.37296904e-02, -2.28178182e-03, -6.48427828e-01,\n",
            "       -1.25260474e+00,  1.23797501e-01, -6.69478018e-02, -2.24753579e-02,\n",
            "        5.51071988e-01, -3.82247422e-01, -9.98930229e-01, -3.52817099e-01,\n",
            "       -4.52139444e-01, -1.09165698e+00,  6.94605558e-02,  5.09442901e-01,\n",
            "        1.50019867e+00, -8.09520757e-01, -2.48752654e-01,  2.26101584e+00,\n",
            "       -1.75494367e-01,  4.55794155e-03, -1.93714673e+00,  4.82162087e-01,\n",
            "        1.60796767e+00,  8.78616693e-03, -1.25098096e-01, -3.17036608e-01,\n",
            "        1.05393558e+00,  1.94084089e-01, -1.99798166e+00, -1.31286422e-01,\n",
            "        6.41908076e-01,  1.28633320e-01,  2.16471424e-01, -1.29609849e+00,\n",
            "       -1.06875049e+00, -4.14270695e-01,  1.03527412e+00,  8.17123038e-01,\n",
            "        9.86074861e-02, -9.90183617e-01,  1.95450791e-01, -3.35774255e-01,\n",
            "       -1.68759951e+00,  4.31297266e-01,  1.61736400e-02, -9.49135241e-01,\n",
            "        1.18746708e+00, -1.59360193e+00,  1.83173927e+00, -1.06449887e-01,\n",
            "        6.03443935e-01,  1.49141488e+00,  8.69070301e-01, -3.79687722e-01,\n",
            "       -5.56756765e-01,  2.10467066e+00, -5.46199903e-01, -1.30362849e+00,\n",
            "       -5.94582064e-01])\n",
            "        grad: array([4.29305352e-08, 4.15741349e-08])\n",
            "         jac: array([[ 0.  , -1.  ],\n",
            "       [-0.01, -1.  ],\n",
            "       [-0.02, -1.  ],\n",
            "       [-0.03, -1.  ],\n",
            "       [-0.04, -1.  ],\n",
            "       [-0.05, -1.  ],\n",
            "       [-0.06, -1.  ],\n",
            "       [-0.07, -1.  ],\n",
            "       [-0.08, -1.  ],\n",
            "       [-0.09, -1.  ],\n",
            "       [-0.1 , -1.  ],\n",
            "       [-0.11, -1.  ],\n",
            "       [-0.12, -1.  ],\n",
            "       [-0.13, -1.  ],\n",
            "       [-0.14, -1.  ],\n",
            "       [-0.15, -1.  ],\n",
            "       [-0.16, -1.  ],\n",
            "       [-0.17, -1.  ],\n",
            "       [-0.18, -1.  ],\n",
            "       [-0.19, -1.  ],\n",
            "       [-0.2 , -1.  ],\n",
            "       [-0.21, -1.  ],\n",
            "       [-0.22, -1.  ],\n",
            "       [-0.23, -1.  ],\n",
            "       [-0.24, -1.  ],\n",
            "       [-0.25, -1.  ],\n",
            "       [-0.26, -1.  ],\n",
            "       [-0.27, -1.  ],\n",
            "       [-0.28, -1.  ],\n",
            "       [-0.29, -1.  ],\n",
            "       [-0.3 , -1.  ],\n",
            "       [-0.31, -1.  ],\n",
            "       [-0.32, -1.  ],\n",
            "       [-0.33, -1.  ],\n",
            "       [-0.34, -1.  ],\n",
            "       [-0.35, -1.  ],\n",
            "       [-0.36, -1.  ],\n",
            "       [-0.37, -1.  ],\n",
            "       [-0.38, -1.  ],\n",
            "       [-0.39, -1.  ],\n",
            "       [-0.4 , -1.  ],\n",
            "       [-0.41, -1.  ],\n",
            "       [-0.42, -1.  ],\n",
            "       [-0.43, -1.  ],\n",
            "       [-0.44, -1.  ],\n",
            "       [-0.45, -1.  ],\n",
            "       [-0.46, -1.  ],\n",
            "       [-0.47, -1.  ],\n",
            "       [-0.48, -1.  ],\n",
            "       [-0.49, -1.  ],\n",
            "       [-0.5 , -1.  ],\n",
            "       [-0.51, -1.  ],\n",
            "       [-0.52, -1.  ],\n",
            "       [-0.53, -1.  ],\n",
            "       [-0.54, -1.  ],\n",
            "       [-0.55, -1.  ],\n",
            "       [-0.56, -1.  ],\n",
            "       [-0.57, -1.  ],\n",
            "       [-0.58, -1.  ],\n",
            "       [-0.59, -1.  ],\n",
            "       [-0.6 , -1.  ],\n",
            "       [-0.61, -1.  ],\n",
            "       [-0.62, -1.  ],\n",
            "       [-0.63, -1.  ],\n",
            "       [-0.64, -1.  ],\n",
            "       [-0.65, -1.  ],\n",
            "       [-0.66, -1.  ],\n",
            "       [-0.67, -1.  ],\n",
            "       [-0.68, -1.  ],\n",
            "       [-0.69, -1.  ],\n",
            "       [-0.7 , -1.  ],\n",
            "       [-0.71, -1.  ],\n",
            "       [-0.72, -1.  ],\n",
            "       [-0.73, -1.  ],\n",
            "       [-0.74, -1.  ],\n",
            "       [-0.75, -1.  ],\n",
            "       [-0.76, -1.  ],\n",
            "       [-0.77, -1.  ],\n",
            "       [-0.78, -1.  ],\n",
            "       [-0.79, -1.  ],\n",
            "       [-0.8 , -1.  ],\n",
            "       [-0.81, -1.  ],\n",
            "       [-0.82, -1.  ],\n",
            "       [-0.83, -1.  ],\n",
            "       [-0.84, -1.  ],\n",
            "       [-0.85, -1.  ],\n",
            "       [-0.86, -1.  ],\n",
            "       [-0.87, -1.  ],\n",
            "       [-0.88, -1.  ],\n",
            "       [-0.89, -1.  ],\n",
            "       [-0.9 , -1.  ],\n",
            "       [-0.91, -1.  ],\n",
            "       [-0.92, -1.  ],\n",
            "       [-0.93, -1.  ],\n",
            "       [-0.94, -1.  ],\n",
            "       [-0.95, -1.  ],\n",
            "       [-0.96, -1.  ],\n",
            "       [-0.97, -1.  ],\n",
            "       [-0.98, -1.  ],\n",
            "       [-0.99, -1.  ],\n",
            "       [-1.  , -1.  ]])\n",
            "     message: '`gtol` termination condition is satisfied.'\n",
            "        nfev: 6\n",
            "        njev: None\n",
            "  optimality: 4.2930535206531914e-08\n",
            "      status: 1\n",
            "     success: True\n",
            "           x: array([0.82846138, 0.820619  ])\n"
          ]
        }
      ]
    },
    {
      "cell_type": "markdown",
      "metadata": {
        "id": "puok4SwqbfQ9"
      },
      "source": [
        "**Plot for results of linear approximation**"
      ]
    },
    {
      "cell_type": "code",
      "metadata": {
        "colab": {
          "base_uri": "https://localhost:8080/",
          "height": 487
        },
        "id": "5tJx09ogbeYf",
        "outputId": "c04e027b-7fc1-4240-f5f9-1439d3ce9ca3"
      },
      "source": [
        "plt.figure(figsize=(12, 8))\n",
        "plt.plot(x, yk)\n",
        "plt.plot(x, linear_appr(x, *grad_desc_lin[0:2]))\n",
        "plt.plot(x, linear_appr(x, *conj_grad_lin.x))\n",
        "plt.plot(x, linear_appr(x, *newton_lin.x))\n",
        "plt.plot(x, linear_appr(x, *LM_lin.x))\n",
        "plt.scatter(x, yk_noise)\n",
        "plt.legend(['Base data', 'Linear gradient descent', 'Linear Conjugate Gradient Descent', \n",
        "            'Linear Newton’s method', 'Linear Levenberg - Marquardt', 'Noisy data'])\n",
        "plt.show()"
      ],
      "execution_count": 120,
      "outputs": [
        {
          "output_type": "display_data",
          "data": {
            "image/png": "[encoded data removed]",
            "text/plain": [
              "<Figure size 864x576 with 1 Axes>"
            ]
          },
          "metadata": {
            "needs_background": "light"
          }
        }
      ]
    },
    {
      "cell_type": "markdown",
      "metadata": {
        "id": "L207KtVGc3oG"
      },
      "source": [
        "**Rational Approximation**"
      ]
    },
    {
      "cell_type": "code",
      "metadata": {
        "id": "GhJ-QGTKct0u"
      },
      "source": [
        "args_rat = (yk_noise, x, 'rational')\n",
        "\n",
        "grad_desc_rat = gradient_descent(args_rat, eps)\n",
        "conj_grad_rat = optimize.minimize(obj_func, [0, 0], args = args_rat, method='CG', tol=eps)\n",
        "newton_rat = optimize.minimize(obj_func, [0, 0], args = args_rat, method='BFGS', tol=eps)\n",
        "LM_rat = optimize.least_squares(obj_func_vect, [0, 0], args = args_rat, method='lm', xtol=eps)"
      ],
      "execution_count": 138,
      "outputs": []
    },
    {
      "cell_type": "markdown",
      "metadata": {
        "id": "6o9e9MzjdAnd"
      },
      "source": [
        "**Gradient Descent rational**"
      ]
    },
    {
      "cell_type": "code",
      "metadata": {
        "colab": {
          "base_uri": "https://localhost:8080/"
        },
        "id": "oAlaw20BdZq1",
        "outputId": "ee3d997a-2fca-4523-ae7b-d198472dc1e7"
      },
      "source": [
        "opt_results(grad_desc_rat)"
      ],
      "execution_count": 139,
      "outputs": [
        {
          "output_type": "stream",
          "name": "stdout",
          "text": [
            "a = 0.9239, b = -0.4610, iterations = 50, f-calculations = 50\n"
          ]
        }
      ]
    },
    {
      "cell_type": "markdown",
      "metadata": {
        "id": "CHKhgnt_dbDh"
      },
      "source": [
        "Let's try better precision again"
      ]
    },
    {
      "cell_type": "code",
      "metadata": {
        "colab": {
          "base_uri": "https://localhost:8080/"
        },
        "id": "tdzUdKgpda4y",
        "outputId": "22c42f88-e8ca-4f46-8c9d-45da0843cfc9"
      },
      "source": [
        "opt_results(gradient_descent(args_rat, 1e-5))"
      ],
      "execution_count": 140,
      "outputs": [
        {
          "output_type": "stream",
          "name": "stdout",
          "text": [
            "a = 0.9138, b = -0.4708, iterations = 120, f-calculations = 120\n"
          ]
        }
      ]
    },
    {
      "cell_type": "markdown",
      "metadata": {
        "id": "qEn10zdYdabi"
      },
      "source": [
        "**Conjugate Gradient Descent rational**"
      ]
    },
    {
      "cell_type": "code",
      "metadata": {
        "colab": {
          "base_uri": "https://localhost:8080/"
        },
        "id": "dQUBd-FOdaH2",
        "outputId": "7a590c8c-57d2-4e46-f344-6db909c68041"
      },
      "source": [
        "print(conj_grad_rat)"
      ],
      "execution_count": 124,
      "outputs": [
        {
          "output_type": "stream",
          "name": "stdout",
          "text": [
            "     fun: 109.95049136476702\n",
            "     jac: array([0.00026798, 0.0001812 ])\n",
            " message: 'Optimization terminated successfully.'\n",
            "    nfev: 106\n",
            "     nit: 9\n",
            "    njev: 25\n",
            "  status: 0\n",
            " success: True\n",
            "       x: array([ 0.91368627, -0.4708475 ])\n"
          ]
        }
      ]
    },
    {
      "cell_type": "markdown",
      "metadata": {
        "id": "aszql4WGdZ7i"
      },
      "source": [
        "**Newton rational**"
      ]
    },
    {
      "cell_type": "code",
      "metadata": {
        "colab": {
          "base_uri": "https://localhost:8080/"
        },
        "id": "1UGE4Qedd1mC",
        "outputId": "c62e404c-a44a-4b2a-d358-9c43453aa661"
      },
      "source": [
        "print(newton_rat)"
      ],
      "execution_count": 125,
      "outputs": [
        {
          "output_type": "stream",
          "name": "stdout",
          "text": [
            "      fun: 109.95049136443383\n",
            " hess_inv: array([[0.01012468, 0.00864942],\n",
            "       [0.00864942, 0.0099714 ]])\n",
            "      jac: array([ 0.0003252 , -0.00057507])\n",
            "  message: 'Optimization terminated successfully.'\n",
            "     nfev: 64\n",
            "      nit: 10\n",
            "     njev: 16\n",
            "   status: 0\n",
            "  success: True\n",
            "        x: array([ 0.9136803 , -0.47085453])\n"
          ]
        }
      ]
    },
    {
      "cell_type": "markdown",
      "metadata": {
        "id": "5WSjeAwEeDgY"
      },
      "source": [
        "**Levenberg-Marquardt algorithm rational**"
      ]
    },
    {
      "cell_type": "code",
      "metadata": {
        "colab": {
          "base_uri": "https://localhost:8080/"
        },
        "id": "N9n1IttveC95",
        "outputId": "3f49640d-e952-43ad-e12d-8c816b7b2df7"
      },
      "source": [
        "print(LM_rat)"
      ],
      "execution_count": 126,
      "outputs": [
        {
          "output_type": "stream",
          "name": "stdout",
          "text": [
            " active_mask: array([0, 0])\n",
            "        cost: 54.9752456819721\n",
            "         fun: array([-0.85698549, -1.99082682,  1.22267262, -0.52550121, -1.77166594,\n",
            "        0.71369883, -0.51681755, -0.48250464,  0.56365902, -1.51445534,\n",
            "       -0.63630075,  2.66740216,  1.90015173,  0.02814066, -0.25401711,\n",
            "       -1.70587199,  0.71537569, -1.21449791,  0.79726655,  1.0633782 ,\n",
            "        0.63745022, -1.12333775, -0.92054139,  2.00813314, -0.13296813,\n",
            "        0.76690571,  1.56803666,  0.78069119, -0.17854139,  1.39918298,\n",
            "       -0.66475931, -2.84066985, -0.05552505,  1.70644137,  0.04217875,\n",
            "        0.48011925, -0.91244044,  0.59374306,  0.69958003, -0.06991798,\n",
            "       -0.31357536,  0.08175374,  0.02738139, -0.61720402, -1.21990015,\n",
            "        0.15790157, -0.03152701,  0.01417788,  0.58887188, -0.34338826,\n",
            "       -0.95910079, -0.31210803, -0.41064309, -1.04946742,  0.11224746,\n",
            "        0.55272946,  1.54388532, -0.7655355 , -0.20457226,  2.3052859 ,\n",
            "       -0.1312422 ,  0.04868252, -1.89326162,  0.5256936 ,  1.65102916,\n",
            "        0.05125883, -0.0833355 , -0.27610782,  1.09390425,  0.23296369,\n",
            "       -1.9603228 , -0.09498277,  0.67671918,  0.16181159,  0.24787352,\n",
            "       -1.26661904, -1.04134337, -0.38908891,  1.05807415,  0.83738138,\n",
            "        0.11616057, -0.97550309,  0.20708762, -0.32735625, -1.68257953,\n",
            "        0.43273579,  0.01384292, -0.95542748,  1.17701641, -1.60841272,\n",
            "        1.8123617 , -0.13060599,  0.57429226,  1.45704517,  0.82925441,\n",
            "       -0.42518373, -0.60817288,  2.04708821, -0.61020137, -1.37430834,\n",
            "       -0.67220658])\n",
            "        grad: array([ 4.35009454e-08, -6.95100663e-05])\n",
            "         jac: array([[-1.        ,  0.        ],\n",
            "       [-1.0047308 ,  0.00922346],\n",
            "       [-1.00950658,  0.01862271],\n",
            "       [-1.01432798,  0.02820153],\n",
            "       [-1.01919565,  0.0379638 ],\n",
            "       [-1.02411026,  0.04791351],\n",
            "       [-1.02907251,  0.05805475],\n",
            "       [-1.03408307,  0.0683917 ],\n",
            "       [-1.03914267,  0.07892869],\n",
            "       [-1.04425202,  0.08967011],\n",
            "       [-1.04941186,  0.1006205 ],\n",
            "       [-1.05462295,  0.11178452],\n",
            "       [-1.05988605,  0.12316693],\n",
            "       [-1.06520195,  0.13477266],\n",
            "       [-1.07057143,  0.14660672],\n",
            "       [-1.07599533,  0.15867429],\n",
            "       [-1.08147446,  0.17098069],\n",
            "       [-1.08700968,  0.18353136],\n",
            "       [-1.09260186,  0.19633192],\n",
            "       [-1.09825187,  0.20938812],\n",
            "       [-1.10396061,  0.22270588],\n",
            "       [-1.10972902,  0.23629129],\n",
            "       [-1.11555802,  0.2501506 ],\n",
            "       [-1.12144859,  0.26429023],\n",
            "       [-1.12740169,  0.27871679],\n",
            "       [-1.13341833,  0.29343709],\n",
            "       [-1.13949954,  0.3084581 ],\n",
            "       [-1.14564635,  0.32378703],\n",
            "       [-1.15185984,  0.33943126],\n",
            "       [-1.15814109,  0.3553984 ],\n",
            "       [-1.16449123,  0.37169629],\n",
            "       [-1.17091138,  0.38833298],\n",
            "       [-1.17740272,  0.40531678],\n",
            "       [-1.18396643,  0.42265621],\n",
            "       [-1.19060374,  0.44036007],\n",
            "       [-1.19731588,  0.45843743],\n",
            "       [-1.20410414,  0.47689759],\n",
            "       [-1.2109698 ,  0.49575018],\n",
            "       [-1.21791421,  0.51500509],\n",
            "       [-1.22493873,  0.53467253],\n",
            "       [-1.23204474,  0.55476299],\n",
            "       [-1.23923368,  0.57528733],\n",
            "       [-1.24650701,  0.5962567 ],\n",
            "       [-1.25386622,  0.61768264],\n",
            "       [-1.26131284,  0.63957701],\n",
            "       [-1.26884844,  0.66195207],\n",
            "       [-1.27647463,  0.68482047],\n",
            "       [-1.28419303,  0.70819525],\n",
            "       [-1.29200535,  0.73208986],\n",
            "       [-1.2999133 ,  0.75651821],\n",
            "       [-1.30791865,  0.78149464],\n",
            "       [-1.31602321,  0.80703396],\n",
            "       [-1.32422884,  0.83315146],\n",
            "       [-1.33253744,  0.85986296],\n",
            "       [-1.34095096,  0.88718478],\n",
            "       [-1.34947139,  0.91513378],\n",
            "       [-1.3581008 ,  0.94372741],\n",
            "       [-1.36684128,  0.97298369],\n",
            "       [-1.375695  ,  1.00292127],\n",
            "       [-1.38466416,  1.03355941],\n",
            "       [-1.39375104,  1.06491806],\n",
            "       [-1.40295798,  1.09701785],\n",
            "       [-1.41228736,  1.12988012],\n",
            "       [-1.42174165,  1.16352697],\n",
            "       [-1.43132338,  1.19798129],\n",
            "       [-1.44103513,  1.23326676],\n",
            "       [-1.45087958,  1.26940791],\n",
            "       [-1.46085945,  1.30643017],\n",
            "       [-1.47097757,  1.34435988],\n",
            "       [-1.48123682,  1.38322434],\n",
            "       [-1.49164019,  1.42305185],\n",
            "       [-1.50219072,  1.46387175],\n",
            "       [-1.51289157,  1.5057145 ],\n",
            "       [-1.52374596,  1.54861167],\n",
            "       [-1.53475724,  1.59259604],\n",
            "       [-1.54592881,  1.63770162],\n",
            "       [-1.55726422,  1.68396373],\n",
            "       [-1.56876708,  1.73141905],\n",
            "       [-1.58044115,  1.7801057 ],\n",
            "       [-1.59229026,  1.83006325],\n",
            "       [-1.60431839,  1.88133286],\n",
            "       [-1.61652962,  1.93395731],\n",
            "       [-1.62892817,  1.9879811 ],\n",
            "       [-1.64151838,  2.0434505 ],\n",
            "       [-1.65430472,  2.10041368],\n",
            "       [-1.66729183,  2.15892076],\n",
            "       [-1.68048446,  2.21902393],\n",
            "       [-1.69388753,  2.28077754],\n",
            "       [-1.70750612,  2.34423822],\n",
            "       [-1.72134547,  2.40946498],\n",
            "       [-1.73541098,  2.47651934],\n",
            "       [-1.74970826,  2.54546545],\n",
            "       [-1.76424306,  2.61637022],\n",
            "       [-1.77902138,  2.68930348],\n",
            "       [-1.79404936,  2.76433812],\n",
            "       [-1.80933341,  2.84155025],\n",
            "       [-1.82488011,  2.92101938],\n",
            "       [-1.84069629,  3.00282858],\n",
            "       [-1.85678903,  3.08706469],\n",
            "       [-1.87316564,  3.17381854],\n",
            "       [-1.8898337 ,  3.2631851 ]])\n",
            "     message: 'Both `ftol` and `xtol` termination conditions are satisfied.'\n",
            "        nfev: 18\n",
            "        njev: None\n",
            "  optimality: 6.95100662865179e-05\n",
            "      status: 4\n",
            "     success: True\n",
            "           x: array([ 0.91368087, -0.47085291])\n"
          ]
        }
      ]
    },
    {
      "cell_type": "markdown",
      "metadata": {
        "id": "c-YoYN-1eNZ1"
      },
      "source": [
        "**Plot for results of rational approximation**"
      ]
    },
    {
      "cell_type": "code",
      "metadata": {
        "colab": {
          "base_uri": "https://localhost:8080/",
          "height": 487
        },
        "id": "77pjWo25ePmS",
        "outputId": "3f191b0d-3884-4a74-89c6-0ba0ed83a1da"
      },
      "source": [
        "plt.figure(figsize=(12, 8))\n",
        "plt.plot(x, yk)\n",
        "plt.plot(x, rational_appr(x, *grad_desc_rat[0:2]))\n",
        "plt.plot(x, rational_appr(x, *conj_grad_rat.x))\n",
        "plt.plot(x, rational_appr(x, *newton_rat.x))\n",
        "plt.plot(x, rational_appr(x, *LM_rat.x))\n",
        "plt.scatter(x, yk_noise)\n",
        "plt.legend(['Base data', 'Rational gradient descent', 'Rational Conjugate Gradient Descent', \n",
        "            'Rational Newton’s method', 'Rational Levenberg - Marquardt', 'Noisy data'])\n",
        "plt.show()"
      ],
      "execution_count": 127,
      "outputs": [
        {
          "output_type": "display_data",
          "data": {
            "image/png": "[encoded data removed]",
            "text/plain": [
              "<Figure size 864x576 with 1 Axes>"
            ]
          },
          "metadata": {
            "needs_background": "light"
          }
        }
      ]
    }
  ]
}